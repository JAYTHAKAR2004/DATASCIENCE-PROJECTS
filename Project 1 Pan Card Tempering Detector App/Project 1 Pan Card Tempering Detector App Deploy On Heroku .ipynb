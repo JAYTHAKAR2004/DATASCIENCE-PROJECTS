{
 "cells": [
  {
   "cell_type": "code",
   "execution_count": 1,
   "id": "b0181f53-64be-461b-8a99-b5b97a7ca238",
   "metadata": {},
   "outputs": [],
   "source": [
    "from skimage.metrics import structural_similarity as ssim\n",
    "import imutils\n",
    "import cv2\n",
    "from PIL import Image\n",
    "import requests\n",
    "import os\n",
    "import numpy as np"
   ]
  },
  {
   "cell_type": "code",
   "execution_count": 2,
   "id": "4253ca12-3cdc-4c67-aec0-702472cd833d",
   "metadata": {},
   "outputs": [],
   "source": [
    "os.makedirs(\"pan_card_tampering/images\", exist_ok=True)"
   ]
  },
  {
   "cell_type": "code",
   "execution_count": 3,
   "id": "ed515f99-e0fa-4e4f-a60d-f0502b3f624a",
   "metadata": {},
   "outputs": [],
   "source": [
    "original = Image.open(requests.get(\n",
    "    'https://www.thestatesman.com/wp-content/uploads/2019/07/pan-card.jpg',\n",
    "    stream=True).raw)\n",
    "original = original.resize((500, 320))\n",
    "original.save('pan_card_tampering/images/original.png')"
   ]
  },
  {
   "cell_type": "code",
   "execution_count": 4,
   "id": "f238f508-7ef8-4f38-8390-86e6b3e7e1cc",
   "metadata": {},
   "outputs": [],
   "source": [
    "tampered = Image.open(requests.get(\n",
    "    'https://assets1.cleartax-cdn.com/s/img/20170526124335/Pan4.png',\n",
    "    stream=True).raw)\n",
    "tampered = tampered.resize((500, 320))\n",
    "tampered.save('pan_card_tampering/images/tampered.png')"
   ]
  },
  {
   "cell_type": "code",
   "execution_count": 5,
   "id": "e0700857-6a4a-47d7-ba28-f5e5ade95ea9",
   "metadata": {},
   "outputs": [],
   "source": [
    "original_cv = cv2.imread('pan_card_tampering/images/original.png')\n",
    "tampered_cv = cv2.imread('pan_card_tampering/images/tampered.png')"
   ]
  },
  {
   "cell_type": "code",
   "execution_count": 6,
   "id": "8d931bf9-f4fc-4b51-8221-bada651327b7",
   "metadata": {},
   "outputs": [
    {
     "name": "stdout",
     "output_type": "stream",
     "text": [
      "Original image pixel sum: 89757768\n",
      "Tampered image pixel sum: 90504219\n"
     ]
    }
   ],
   "source": [
    "print(\"Original image pixel sum:\", np.sum(original_cv))\n",
    "print(\"Tampered image pixel sum:\", np.sum(tampered_cv))"
   ]
  },
  {
   "cell_type": "code",
   "execution_count": 7,
   "id": "3b7c655a-c3e3-4d9c-bc35-2e8ed9d601bc",
   "metadata": {},
   "outputs": [],
   "source": [
    "original_gray = cv2.cvtColor(original_cv, cv2.COLOR_BGR2GRAY)\n",
    "tampered_gray = cv2.cvtColor(tampered_cv, cv2.COLOR_BGR2GRAY)"
   ]
  },
  {
   "cell_type": "code",
   "execution_count": 8,
   "id": "6335ecbd-23f1-46db-ab30-a6597617b447",
   "metadata": {},
   "outputs": [
    {
     "name": "stdout",
     "output_type": "stream",
     "text": [
      "SSIM Score: 0.3234859105524235\n"
     ]
    }
   ],
   "source": [
    "(score, diff) = ssim(original_gray, tampered_gray, full=True)\n",
    "diff = (diff * 255).astype(\"uint8\")\n",
    "\n",
    "print(\"SSIM Score:\", score)"
   ]
  },
  {
   "cell_type": "code",
   "execution_count": 9,
   "id": "65602cef-b386-4644-afe7-0b8ab66dee0f",
   "metadata": {},
   "outputs": [],
   "source": [
    "thresh = cv2.threshold(diff, 0, 255, cv2.THRESH_BINARY_INV | cv2.THRESH_OTSU)[1]\n",
    "\n",
    "# Find contours of differences\n",
    "cnts = cv2.findContours(thresh.copy(), cv2.RETR_EXTERNAL, cv2.CHAIN_APPROX_SIMPLE)\n",
    "cnts = imutils.grab_contours(cnts)\n"
   ]
  },
  {
   "cell_type": "code",
   "execution_count": null,
   "id": "632f9d4f-b2bd-461a-85f4-41b96ae88f16",
   "metadata": {},
   "outputs": [],
   "source": [
    "for c in cnts:\n",
    "    (x, y, w, h) = cv2.boundingRect(c)\n",
    "    cv2.rectangle(original_cv, (x, y), (x + w, y + h), (0, 0, 255), 2)\n",
    "    cv2.rectangle(tampered_cv, (x, y), (x + w, y + h), (0, 0, 255), 2)\n",
    "\n",
    "# Display the images\n",
    "cv2.imshow(\"Original with Differences\", original_cv)\n",
    "cv2.imshow(\"Tampered with Differences\", tampered_cv)\n",
    "cv2.imshow(\"Difference Map\", diff)\n",
    "cv2.imshow(\"Threshold\", thresh)\n",
    "\n",
    "cv2.waitKey(0)\n",
    "cv2.destroyAllWindows()"
   ]
  },
  {
   "cell_type": "code",
   "execution_count": null,
   "id": "e716d747-ed0c-4f4e-83cb-090366409529",
   "metadata": {},
   "outputs": [],
   "source": []
  },
  {
   "cell_type": "code",
   "execution_count": null,
   "id": "3c90e3cc-b535-4540-ba1a-a23bcf835d87",
   "metadata": {},
   "outputs": [],
   "source": []
  },
  {
   "cell_type": "code",
   "execution_count": null,
   "id": "7aec160c-2eeb-487c-8052-9bab061d5f14",
   "metadata": {},
   "outputs": [],
   "source": []
  },
  {
   "cell_type": "code",
   "execution_count": null,
   "id": "98211f02-15ee-4b5f-9c90-8e5f50f538e7",
   "metadata": {},
   "outputs": [],
   "source": []
  }
 ],
 "metadata": {
  "kernelspec": {
   "display_name": "Python 3 (ipykernel)",
   "language": "python",
   "name": "python3"
  },
  "language_info": {
   "codemirror_mode": {
    "name": "ipython",
    "version": 3
   },
   "file_extension": ".py",
   "mimetype": "text/x-python",
   "name": "python",
   "nbconvert_exporter": "python",
   "pygments_lexer": "ipython3",
   "version": "3.12.7"
  }
 },
 "nbformat": 4,
 "nbformat_minor": 5
}
